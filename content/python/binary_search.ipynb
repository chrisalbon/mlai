{
 "cells": [
  {
   "cell_type": "markdown",
   "metadata": {},
   "source": [
    "## Create sorted list"
   ]
  },
  {
   "cell_type": "code",
   "execution_count": 80,
   "metadata": {
    "collapsed": false
   },
   "outputs": [
    {
     "name": "stdout",
     "output_type": "stream",
     "text": [
      "[1, 2, 3, 4, 5, 6, 7, 8, 9, 10, 12, 14, 16, 18, 20]\n"
     ]
    }
   ],
   "source": [
    "sorted_list = [1, 2, 3, 4, 5, 6, 7, 8, 9, 10, 12, 14, 16, 18, 20]\n",
    "print(sorted_list)"
   ]
  },
  {
   "cell_type": "markdown",
   "metadata": {},
   "source": [
    "## Creat a binary search algorithm"
   ]
  },
  {
   "cell_type": "code",
   "execution_count": 81,
   "metadata": {
    "collapsed": true
   },
   "outputs": [],
   "source": [
    "def binary_search(sorted_list, target):\n",
    "    \n",
    "    '''This function inputs a sorted list and a target value to find and returns ....'''\n",
    "\n",
    "    # Create variables for the index of the first and last elements\n",
    "    start = 0\n",
    "    end = len(sorted_list) - 1\n",
    "    \n",
    "    while end >= start:\n",
    "        \n",
    "        # Create a variable for the index of the middle term\n",
    "        middle = start + (end - start) // 2  # // is integer division in Python 3.X\n",
    "\n",
    "        # If the target value is less than the middle value of the search area\n",
    "        if sorted_list[middle] < target:\n",
    "            # Cut the list in half by making the new start value the old middle value plus 1\n",
    "            # The plus one is because we already ruled the middle value out, so we can ignore it\n",
    "            start = middle + 1\n",
    "            \n",
    "        # Else, if the target value is greater than the middle value of the search area\n",
    "        elif sorted_list[middle] > target:\n",
    "            # Cut the list in half by making the new end value the old middle value minus 1\n",
    "            # The minus one is because we already ruled the middle value out, so we can ignore it\n",
    "            end = middle - 1\n",
    "            \n",
    "        # If it's not too high or too low, it must be just right, return the location\n",
    "        else:\n",
    "            return (\"Found it at index: {}\".format(middle))\n",
    "\n",
    "    # If we've fallen out of the while loop the target value is not in the list\n",
    "    return print(\"Not in list!\")"
   ]
  },
  {
   "cell_type": "code",
   "execution_count": 82,
   "metadata": {
    "collapsed": false
   },
   "outputs": [
    {
     "data": {
      "text/plain": [
       "'Found it at index: 12'"
      ]
     },
     "execution_count": 82,
     "metadata": {},
     "output_type": "execute_result"
    }
   ],
   "source": [
    "binary_search(sorted_list, 16)"
   ]
  }
 ],
 "metadata": {
  "kernelspec": {
   "display_name": "Python [conda root]",
   "language": "python",
   "name": "conda-root-py"
  },
  "language_info": {
   "codemirror_mode": {
    "name": "ipython",
    "version": 3
   },
   "file_extension": ".py",
   "mimetype": "text/x-python",
   "name": "python",
   "nbconvert_exporter": "python",
   "pygments_lexer": "ipython3",
   "version": "3.5.2"
  }
 },
 "nbformat": 4,
 "nbformat_minor": 2
}
